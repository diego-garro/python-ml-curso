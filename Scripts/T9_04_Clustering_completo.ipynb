{
 "cells": [
  {
   "cell_type": "markdown",
   "metadata": {},
   "source": [
    "# Clustering con Python\n",
    "\n",
    "### Importamos el dataset"
   ]
  },
  {
   "cell_type": "code",
   "execution_count": 1,
   "metadata": {},
   "outputs": [],
   "source": [
    "import pandas as pd"
   ]
  },
  {
   "cell_type": "code",
   "execution_count": 3,
   "metadata": {},
   "outputs": [
    {
     "data": {
      "text/html": [
       "<div>\n",
       "<style scoped>\n",
       "    .dataframe tbody tr th:only-of-type {\n",
       "        vertical-align: middle;\n",
       "    }\n",
       "\n",
       "    .dataframe tbody tr th {\n",
       "        vertical-align: top;\n",
       "    }\n",
       "\n",
       "    .dataframe thead th {\n",
       "        text-align: right;\n",
       "    }\n",
       "</style>\n",
       "<table border=\"1\" class=\"dataframe\">\n",
       "  <thead>\n",
       "    <tr style=\"text-align: right;\">\n",
       "      <th></th>\n",
       "      <th>fixed acidity</th>\n",
       "      <th>volatile acidity</th>\n",
       "      <th>citric acid</th>\n",
       "      <th>residual sugar</th>\n",
       "      <th>chlorides</th>\n",
       "      <th>free sulfur dioxide</th>\n",
       "      <th>total sulfur dioxide</th>\n",
       "      <th>density</th>\n",
       "      <th>pH</th>\n",
       "      <th>sulphates</th>\n",
       "      <th>alcohol</th>\n",
       "      <th>quality</th>\n",
       "    </tr>\n",
       "  </thead>\n",
       "  <tbody>\n",
       "    <tr>\n",
       "      <td>0</td>\n",
       "      <td>7.4</td>\n",
       "      <td>0.70</td>\n",
       "      <td>0.00</td>\n",
       "      <td>1.9</td>\n",
       "      <td>0.076</td>\n",
       "      <td>11.0</td>\n",
       "      <td>34.0</td>\n",
       "      <td>0.9978</td>\n",
       "      <td>3.51</td>\n",
       "      <td>0.56</td>\n",
       "      <td>9.4</td>\n",
       "      <td>5</td>\n",
       "    </tr>\n",
       "    <tr>\n",
       "      <td>1</td>\n",
       "      <td>7.8</td>\n",
       "      <td>0.88</td>\n",
       "      <td>0.00</td>\n",
       "      <td>2.6</td>\n",
       "      <td>0.098</td>\n",
       "      <td>25.0</td>\n",
       "      <td>67.0</td>\n",
       "      <td>0.9968</td>\n",
       "      <td>3.20</td>\n",
       "      <td>0.68</td>\n",
       "      <td>9.8</td>\n",
       "      <td>5</td>\n",
       "    </tr>\n",
       "    <tr>\n",
       "      <td>2</td>\n",
       "      <td>7.8</td>\n",
       "      <td>0.76</td>\n",
       "      <td>0.04</td>\n",
       "      <td>2.3</td>\n",
       "      <td>0.092</td>\n",
       "      <td>15.0</td>\n",
       "      <td>54.0</td>\n",
       "      <td>0.9970</td>\n",
       "      <td>3.26</td>\n",
       "      <td>0.65</td>\n",
       "      <td>9.8</td>\n",
       "      <td>5</td>\n",
       "    </tr>\n",
       "    <tr>\n",
       "      <td>3</td>\n",
       "      <td>11.2</td>\n",
       "      <td>0.28</td>\n",
       "      <td>0.56</td>\n",
       "      <td>1.9</td>\n",
       "      <td>0.075</td>\n",
       "      <td>17.0</td>\n",
       "      <td>60.0</td>\n",
       "      <td>0.9980</td>\n",
       "      <td>3.16</td>\n",
       "      <td>0.58</td>\n",
       "      <td>9.8</td>\n",
       "      <td>6</td>\n",
       "    </tr>\n",
       "    <tr>\n",
       "      <td>4</td>\n",
       "      <td>7.4</td>\n",
       "      <td>0.70</td>\n",
       "      <td>0.00</td>\n",
       "      <td>1.9</td>\n",
       "      <td>0.076</td>\n",
       "      <td>11.0</td>\n",
       "      <td>34.0</td>\n",
       "      <td>0.9978</td>\n",
       "      <td>3.51</td>\n",
       "      <td>0.56</td>\n",
       "      <td>9.4</td>\n",
       "      <td>5</td>\n",
       "    </tr>\n",
       "    <tr>\n",
       "      <td>5</td>\n",
       "      <td>7.4</td>\n",
       "      <td>0.66</td>\n",
       "      <td>0.00</td>\n",
       "      <td>1.8</td>\n",
       "      <td>0.075</td>\n",
       "      <td>13.0</td>\n",
       "      <td>40.0</td>\n",
       "      <td>0.9978</td>\n",
       "      <td>3.51</td>\n",
       "      <td>0.56</td>\n",
       "      <td>9.4</td>\n",
       "      <td>5</td>\n",
       "    </tr>\n",
       "    <tr>\n",
       "      <td>6</td>\n",
       "      <td>7.9</td>\n",
       "      <td>0.60</td>\n",
       "      <td>0.06</td>\n",
       "      <td>1.6</td>\n",
       "      <td>0.069</td>\n",
       "      <td>15.0</td>\n",
       "      <td>59.0</td>\n",
       "      <td>0.9964</td>\n",
       "      <td>3.30</td>\n",
       "      <td>0.46</td>\n",
       "      <td>9.4</td>\n",
       "      <td>5</td>\n",
       "    </tr>\n",
       "    <tr>\n",
       "      <td>7</td>\n",
       "      <td>7.3</td>\n",
       "      <td>0.65</td>\n",
       "      <td>0.00</td>\n",
       "      <td>1.2</td>\n",
       "      <td>0.065</td>\n",
       "      <td>15.0</td>\n",
       "      <td>21.0</td>\n",
       "      <td>0.9946</td>\n",
       "      <td>3.39</td>\n",
       "      <td>0.47</td>\n",
       "      <td>10.0</td>\n",
       "      <td>7</td>\n",
       "    </tr>\n",
       "  </tbody>\n",
       "</table>\n",
       "</div>"
      ],
      "text/plain": [
       "   fixed acidity  volatile acidity  citric acid  residual sugar  chlorides  \\\n",
       "0            7.4              0.70         0.00             1.9      0.076   \n",
       "1            7.8              0.88         0.00             2.6      0.098   \n",
       "2            7.8              0.76         0.04             2.3      0.092   \n",
       "3           11.2              0.28         0.56             1.9      0.075   \n",
       "4            7.4              0.70         0.00             1.9      0.076   \n",
       "5            7.4              0.66         0.00             1.8      0.075   \n",
       "6            7.9              0.60         0.06             1.6      0.069   \n",
       "7            7.3              0.65         0.00             1.2      0.065   \n",
       "\n",
       "   free sulfur dioxide  total sulfur dioxide  density    pH  sulphates  \\\n",
       "0                 11.0                  34.0   0.9978  3.51       0.56   \n",
       "1                 25.0                  67.0   0.9968  3.20       0.68   \n",
       "2                 15.0                  54.0   0.9970  3.26       0.65   \n",
       "3                 17.0                  60.0   0.9980  3.16       0.58   \n",
       "4                 11.0                  34.0   0.9978  3.51       0.56   \n",
       "5                 13.0                  40.0   0.9978  3.51       0.56   \n",
       "6                 15.0                  59.0   0.9964  3.30       0.46   \n",
       "7                 15.0                  21.0   0.9946  3.39       0.47   \n",
       "\n",
       "   alcohol  quality  \n",
       "0      9.4        5  \n",
       "1      9.8        5  \n",
       "2      9.8        5  \n",
       "3      9.8        6  \n",
       "4      9.4        5  \n",
       "5      9.4        5  \n",
       "6      9.4        5  \n",
       "7     10.0        7  "
      ]
     },
     "execution_count": 3,
     "metadata": {},
     "output_type": "execute_result"
    }
   ],
   "source": [
    "df = pd.read_csv(\"../datasets/wine/winequality-red.csv\", sep=\";\")\n",
    "df.head(8)"
   ]
  },
  {
   "cell_type": "code",
   "execution_count": 4,
   "metadata": {},
   "outputs": [
    {
     "data": {
      "text/plain": [
       "(1599, 12)"
      ]
     },
     "execution_count": 4,
     "metadata": {},
     "output_type": "execute_result"
    }
   ],
   "source": [
    "df.shape"
   ]
  },
  {
   "cell_type": "code",
   "execution_count": 5,
   "metadata": {},
   "outputs": [],
   "source": [
    "import matplotlib.pyplot as plt"
   ]
  },
  {
   "cell_type": "code",
   "execution_count": 6,
   "metadata": {},
   "outputs": [
    {
     "data": {
      "text/plain": [
       "(array([ 10.,   0.,  53.,   0., 681.,   0., 638.,   0., 199.,  18.]),\n",
       " array([3. , 3.5, 4. , 4.5, 5. , 5.5, 6. , 6.5, 7. , 7.5, 8. ]),\n",
       " <a list of 10 Patch objects>)"
      ]
     },
     "execution_count": 6,
     "metadata": {},
     "output_type": "execute_result"
    },
    {
     "data": {
      "image/png": "[encoded data removed]",
      "text/plain": [
       "<Figure size 432x288 with 1 Axes>"
      ]
     },
     "metadata": {
      "needs_background": "light"
     },
     "output_type": "display_data"
    }
   ],
   "source": [
    "plt.hist(df[\"quality\"])"
   ]
  },
  {
   "cell_type": "code",
   "execution_count": 7,
   "metadata": {},
   "outputs": [
    {
     "data": {
      "text/html": [
       "<div>\n",
       "<style scoped>\n",
       "    .dataframe tbody tr th:only-of-type {\n",
       "        vertical-align: middle;\n",
       "    }\n",
       "\n",
       "    .dataframe tbody tr th {\n",
       "        vertical-align: top;\n",
       "    }\n",
       "\n",
       "    .dataframe thead th {\n",
       "        text-align: right;\n",
       "    }\n",
       "</style>\n",
       "<table border=\"1\" class=\"dataframe\">\n",
       "  <thead>\n",
       "    <tr style=\"text-align: right;\">\n",
       "      <th></th>\n",
       "      <th>fixed acidity</th>\n",
       "      <th>volatile acidity</th>\n",
       "      <th>citric acid</th>\n",
       "      <th>residual sugar</th>\n",
       "      <th>chlorides</th>\n",
       "      <th>free sulfur dioxide</th>\n",
       "      <th>total sulfur dioxide</th>\n",
       "      <th>density</th>\n",
       "      <th>pH</th>\n",
       "      <th>sulphates</th>\n",
       "      <th>alcohol</th>\n",
       "    </tr>\n",
       "    <tr>\n",
       "      <th>quality</th>\n",
       "      <th></th>\n",
       "      <th></th>\n",
       "      <th></th>\n",
       "      <th></th>\n",
       "      <th></th>\n",
       "      <th></th>\n",
       "      <th></th>\n",
       "      <th></th>\n",
       "      <th></th>\n",
       "      <th></th>\n",
       "      <th></th>\n",
       "    </tr>\n",
       "  </thead>\n",
       "  <tbody>\n",
       "    <tr>\n",
       "      <td>3</td>\n",
       "      <td>8.360000</td>\n",
       "      <td>0.884500</td>\n",
       "      <td>0.171000</td>\n",
       "      <td>2.635000</td>\n",
       "      <td>0.122500</td>\n",
       "      <td>11.000000</td>\n",
       "      <td>24.900000</td>\n",
       "      <td>0.997464</td>\n",
       "      <td>3.398000</td>\n",
       "      <td>0.570000</td>\n",
       "      <td>9.955000</td>\n",
       "    </tr>\n",
       "    <tr>\n",
       "      <td>4</td>\n",
       "      <td>7.779245</td>\n",
       "      <td>0.693962</td>\n",
       "      <td>0.174151</td>\n",
       "      <td>2.694340</td>\n",
       "      <td>0.090679</td>\n",
       "      <td>12.264151</td>\n",
       "      <td>36.245283</td>\n",
       "      <td>0.996542</td>\n",
       "      <td>3.381509</td>\n",
       "      <td>0.596415</td>\n",
       "      <td>10.265094</td>\n",
       "    </tr>\n",
       "    <tr>\n",
       "      <td>5</td>\n",
       "      <td>8.167254</td>\n",
       "      <td>0.577041</td>\n",
       "      <td>0.243686</td>\n",
       "      <td>2.528855</td>\n",
       "      <td>0.092736</td>\n",
       "      <td>16.983847</td>\n",
       "      <td>56.513950</td>\n",
       "      <td>0.997104</td>\n",
       "      <td>3.304949</td>\n",
       "      <td>0.620969</td>\n",
       "      <td>9.899706</td>\n",
       "    </tr>\n",
       "    <tr>\n",
       "      <td>6</td>\n",
       "      <td>8.347179</td>\n",
       "      <td>0.497484</td>\n",
       "      <td>0.273824</td>\n",
       "      <td>2.477194</td>\n",
       "      <td>0.084956</td>\n",
       "      <td>15.711599</td>\n",
       "      <td>40.869906</td>\n",
       "      <td>0.996615</td>\n",
       "      <td>3.318072</td>\n",
       "      <td>0.675329</td>\n",
       "      <td>10.629519</td>\n",
       "    </tr>\n",
       "    <tr>\n",
       "      <td>7</td>\n",
       "      <td>8.872362</td>\n",
       "      <td>0.403920</td>\n",
       "      <td>0.375176</td>\n",
       "      <td>2.720603</td>\n",
       "      <td>0.076588</td>\n",
       "      <td>14.045226</td>\n",
       "      <td>35.020101</td>\n",
       "      <td>0.996104</td>\n",
       "      <td>3.290754</td>\n",
       "      <td>0.741256</td>\n",
       "      <td>11.465913</td>\n",
       "    </tr>\n",
       "    <tr>\n",
       "      <td>8</td>\n",
       "      <td>8.566667</td>\n",
       "      <td>0.423333</td>\n",
       "      <td>0.391111</td>\n",
       "      <td>2.577778</td>\n",
       "      <td>0.068444</td>\n",
       "      <td>13.277778</td>\n",
       "      <td>33.444444</td>\n",
       "      <td>0.995212</td>\n",
       "      <td>3.267222</td>\n",
       "      <td>0.767778</td>\n",
       "      <td>12.094444</td>\n",
       "    </tr>\n",
       "  </tbody>\n",
       "</table>\n",
       "</div>"
      ],
      "text/plain": [
       "         fixed acidity  volatile acidity  citric acid  residual sugar  \\\n",
       "quality                                                                 \n",
       "3             8.360000          0.884500     0.171000        2.635000   \n",
       "4             7.779245          0.693962     0.174151        2.694340   \n",
       "5             8.167254          0.577041     0.243686        2.528855   \n",
       "6             8.347179          0.497484     0.273824        2.477194   \n",
       "7             8.872362          0.403920     0.375176        2.720603   \n",
       "8             8.566667          0.423333     0.391111        2.577778   \n",
       "\n",
       "         chlorides  free sulfur dioxide  total sulfur dioxide   density  \\\n",
       "quality                                                                   \n",
       "3         0.122500            11.000000             24.900000  0.997464   \n",
       "4         0.090679            12.264151             36.245283  0.996542   \n",
       "5         0.092736            16.983847             56.513950  0.997104   \n",
       "6         0.084956            15.711599             40.869906  0.996615   \n",
       "7         0.076588            14.045226             35.020101  0.996104   \n",
       "8         0.068444            13.277778             33.444444  0.995212   \n",
       "\n",
       "               pH  sulphates    alcohol  \n",
       "quality                                  \n",
       "3        3.398000   0.570000   9.955000  \n",
       "4        3.381509   0.596415  10.265094  \n",
       "5        3.304949   0.620969   9.899706  \n",
       "6        3.318072   0.675329  10.629519  \n",
       "7        3.290754   0.741256  11.465913  \n",
       "8        3.267222   0.767778  12.094444  "
      ]
     },
     "execution_count": 7,
     "metadata": {},
     "output_type": "execute_result"
    }
   ],
   "source": [
    "df.groupby(\"quality\").mean()"
   ]
  },
  {
   "cell_type": "markdown",
   "metadata": {},
   "source": [
    "### Normalización de los datos"
   ]
  },
  {
   "cell_type": "code",
   "execution_count": 9,
   "metadata": {},
   "outputs": [
    {
     "data": {
      "text/html": [
       "<div>\n",
       "<style scoped>\n",
       "    .dataframe tbody tr th:only-of-type {\n",
       "        vertical-align: middle;\n",
       "    }\n",
       "\n",
       "    .dataframe tbody tr th {\n",
       "        vertical-align: top;\n",
       "    }\n",
       "\n",
       "    .dataframe thead th {\n",
       "        text-align: right;\n",
       "    }\n",
       "</style>\n",
       "<table border=\"1\" class=\"dataframe\">\n",
       "  <thead>\n",
       "    <tr style=\"text-align: right;\">\n",
       "      <th></th>\n",
       "      <th>fixed acidity</th>\n",
       "      <th>volatile acidity</th>\n",
       "      <th>citric acid</th>\n",
       "      <th>residual sugar</th>\n",
       "      <th>chlorides</th>\n",
       "      <th>free sulfur dioxide</th>\n",
       "      <th>total sulfur dioxide</th>\n",
       "      <th>density</th>\n",
       "      <th>pH</th>\n",
       "      <th>sulphates</th>\n",
       "      <th>alcohol</th>\n",
       "      <th>quality</th>\n",
       "    </tr>\n",
       "  </thead>\n",
       "  <tbody>\n",
       "    <tr>\n",
       "      <td>0</td>\n",
       "      <td>0.247788</td>\n",
       "      <td>0.397260</td>\n",
       "      <td>0.00</td>\n",
       "      <td>0.068493</td>\n",
       "      <td>0.106845</td>\n",
       "      <td>0.140845</td>\n",
       "      <td>0.098940</td>\n",
       "      <td>0.567548</td>\n",
       "      <td>0.606299</td>\n",
       "      <td>0.137725</td>\n",
       "      <td>0.153846</td>\n",
       "      <td>0.4</td>\n",
       "    </tr>\n",
       "    <tr>\n",
       "      <td>1</td>\n",
       "      <td>0.283186</td>\n",
       "      <td>0.520548</td>\n",
       "      <td>0.00</td>\n",
       "      <td>0.116438</td>\n",
       "      <td>0.143573</td>\n",
       "      <td>0.338028</td>\n",
       "      <td>0.215548</td>\n",
       "      <td>0.494126</td>\n",
       "      <td>0.362205</td>\n",
       "      <td>0.209581</td>\n",
       "      <td>0.215385</td>\n",
       "      <td>0.4</td>\n",
       "    </tr>\n",
       "    <tr>\n",
       "      <td>2</td>\n",
       "      <td>0.283186</td>\n",
       "      <td>0.438356</td>\n",
       "      <td>0.04</td>\n",
       "      <td>0.095890</td>\n",
       "      <td>0.133556</td>\n",
       "      <td>0.197183</td>\n",
       "      <td>0.169611</td>\n",
       "      <td>0.508811</td>\n",
       "      <td>0.409449</td>\n",
       "      <td>0.191617</td>\n",
       "      <td>0.215385</td>\n",
       "      <td>0.4</td>\n",
       "    </tr>\n",
       "    <tr>\n",
       "      <td>3</td>\n",
       "      <td>0.584071</td>\n",
       "      <td>0.109589</td>\n",
       "      <td>0.56</td>\n",
       "      <td>0.068493</td>\n",
       "      <td>0.105175</td>\n",
       "      <td>0.225352</td>\n",
       "      <td>0.190813</td>\n",
       "      <td>0.582232</td>\n",
       "      <td>0.330709</td>\n",
       "      <td>0.149701</td>\n",
       "      <td>0.215385</td>\n",
       "      <td>0.6</td>\n",
       "    </tr>\n",
       "    <tr>\n",
       "      <td>4</td>\n",
       "      <td>0.247788</td>\n",
       "      <td>0.397260</td>\n",
       "      <td>0.00</td>\n",
       "      <td>0.068493</td>\n",
       "      <td>0.106845</td>\n",
       "      <td>0.140845</td>\n",
       "      <td>0.098940</td>\n",
       "      <td>0.567548</td>\n",
       "      <td>0.606299</td>\n",
       "      <td>0.137725</td>\n",
       "      <td>0.153846</td>\n",
       "      <td>0.4</td>\n",
       "    </tr>\n",
       "    <tr>\n",
       "      <td>5</td>\n",
       "      <td>0.247788</td>\n",
       "      <td>0.369863</td>\n",
       "      <td>0.00</td>\n",
       "      <td>0.061644</td>\n",
       "      <td>0.105175</td>\n",
       "      <td>0.169014</td>\n",
       "      <td>0.120141</td>\n",
       "      <td>0.567548</td>\n",
       "      <td>0.606299</td>\n",
       "      <td>0.137725</td>\n",
       "      <td>0.153846</td>\n",
       "      <td>0.4</td>\n",
       "    </tr>\n",
       "    <tr>\n",
       "      <td>6</td>\n",
       "      <td>0.292035</td>\n",
       "      <td>0.328767</td>\n",
       "      <td>0.06</td>\n",
       "      <td>0.047945</td>\n",
       "      <td>0.095159</td>\n",
       "      <td>0.197183</td>\n",
       "      <td>0.187279</td>\n",
       "      <td>0.464758</td>\n",
       "      <td>0.440945</td>\n",
       "      <td>0.077844</td>\n",
       "      <td>0.153846</td>\n",
       "      <td>0.4</td>\n",
       "    </tr>\n",
       "    <tr>\n",
       "      <td>7</td>\n",
       "      <td>0.238938</td>\n",
       "      <td>0.363014</td>\n",
       "      <td>0.00</td>\n",
       "      <td>0.020548</td>\n",
       "      <td>0.088481</td>\n",
       "      <td>0.197183</td>\n",
       "      <td>0.053004</td>\n",
       "      <td>0.332599</td>\n",
       "      <td>0.511811</td>\n",
       "      <td>0.083832</td>\n",
       "      <td>0.246154</td>\n",
       "      <td>0.8</td>\n",
       "    </tr>\n",
       "  </tbody>\n",
       "</table>\n",
       "</div>"
      ],
      "text/plain": [
       "   fixed acidity  volatile acidity  citric acid  residual sugar  chlorides  \\\n",
       "0       0.247788          0.397260         0.00        0.068493   0.106845   \n",
       "1       0.283186          0.520548         0.00        0.116438   0.143573   \n",
       "2       0.283186          0.438356         0.04        0.095890   0.133556   \n",
       "3       0.584071          0.109589         0.56        0.068493   0.105175   \n",
       "4       0.247788          0.397260         0.00        0.068493   0.106845   \n",
       "5       0.247788          0.369863         0.00        0.061644   0.105175   \n",
       "6       0.292035          0.328767         0.06        0.047945   0.095159   \n",
       "7       0.238938          0.363014         0.00        0.020548   0.088481   \n",
       "\n",
       "   free sulfur dioxide  total sulfur dioxide   density        pH  sulphates  \\\n",
       "0             0.140845              0.098940  0.567548  0.606299   0.137725   \n",
       "1             0.338028              0.215548  0.494126  0.362205   0.209581   \n",
       "2             0.197183              0.169611  0.508811  0.409449   0.191617   \n",
       "3             0.225352              0.190813  0.582232  0.330709   0.149701   \n",
       "4             0.140845              0.098940  0.567548  0.606299   0.137725   \n",
       "5             0.169014              0.120141  0.567548  0.606299   0.137725   \n",
       "6             0.197183              0.187279  0.464758  0.440945   0.077844   \n",
       "7             0.197183              0.053004  0.332599  0.511811   0.083832   \n",
       "\n",
       "    alcohol  quality  \n",
       "0  0.153846      0.4  \n",
       "1  0.215385      0.4  \n",
       "2  0.215385      0.4  \n",
       "3  0.215385      0.6  \n",
       "4  0.153846      0.4  \n",
       "5  0.153846      0.4  \n",
       "6  0.153846      0.4  \n",
       "7  0.246154      0.8  "
      ]
     },
     "execution_count": 9,
     "metadata": {},
     "output_type": "execute_result"
    }
   ],
   "source": [
    "df_norm = (df - df.min()) / (df.max() - df.min())\n",
    "df_norm.head(8)"
   ]
  },
  {
   "cell_type": "markdown",
   "metadata": {},
   "source": [
    "## Clustering jerárquico con scikit-learn"
   ]
  },
  {
   "cell_type": "code",
   "execution_count": 10,
   "metadata": {},
   "outputs": [],
   "source": [
    "from sklearn.cluster import AgglomerativeClustering"
   ]
  },
  {
   "cell_type": "code",
   "execution_count": 11,
   "metadata": {},
   "outputs": [],
   "source": [
    "clus = AgglomerativeClustering(n_clusters=6, linkage=\"ward\").fit(df_norm)"
   ]
  },
  {
   "cell_type": "code",
   "execution_count": 12,
   "metadata": {},
   "outputs": [],
   "source": [
    "md = pd.Series(clus.labels_)"
   ]
  },
  {
   "cell_type": "code",
   "execution_count": 13,
   "metadata": {},
   "outputs": [
    {
     "data": {
      "text/plain": [
       "Text(0, 0.5, 'Número de vinos del cluster')"
      ]
     },
     "execution_count": 13,
     "metadata": {},
     "output_type": "execute_result"
    },
    {
     "data": {
      "image/png": "[encoded data removed]",
      "text/plain": [
       "<Figure size 432x288 with 1 Axes>"
      ]
     },
     "metadata": {
      "needs_background": "light"
     },
     "output_type": "display_data"
    }
   ],
   "source": [
    "plt.hist(md)\n",
    "plt.title(\"Histograma de los clusters\")\n",
    "plt.xlabel(\"Cluster\")\n",
    "plt.ylabel(\"Número de vinos del cluster\")"
   ]
  },
  {
   "cell_type": "code",
   "execution_count": 14,
   "metadata": {},
   "outputs": [
    {
     "data": {
      "text/plain": [
       "array([[   0,    4],\n",
       "       [ 135,  140],\n",
       "       [ 750,  751],\n",
       "       ...,\n",
       "       [3179, 3191],\n",
       "       [3192, 3193],\n",
       "       [3194, 3195]])"
      ]
     },
     "execution_count": 14,
     "metadata": {},
     "output_type": "execute_result"
    }
   ],
   "source": [
    "clus.children_"
   ]
  },
  {
   "cell_type": "code",
   "execution_count": 16,
   "metadata": {},
   "outputs": [],
   "source": [
    "from scipy.cluster.hierarchy import dendrogram, linkage"
   ]
  },
  {
   "cell_type": "code",
   "execution_count": 17,
   "metadata": {},
   "outputs": [],
   "source": [
    "Z = linkage(df_norm, \"ward\")"
   ]
  },
  {
   "cell_type": "code",
   "execution_count": 18,
   "metadata": {},
   "outputs": [
    {
     "data": {
      "image/png": "[encoded data removed]",
      "text/plain": [
       "<Figure size 1800x720 with 1 Axes>"
      ]
     },
     "metadata": {
      "needs_background": "light"
     },
     "output_type": "display_data"
    }
   ],
   "source": [
    "plt.figure(figsize=(25, 10))\n",
    "plt.title(\"Dendrograma de los vinos\")\n",
    "plt.xlabel(\"ID del vino\")\n",
    "plt.ylabel(\"Distancia\")\n",
    "dendrogram(Z, leaf_rotation=90., leaf_font_size=8.)\n",
    "plt.show()"
   ]
  },
  {
   "cell_type": "markdown",
   "metadata": {},
   "source": [
    "## K-Means"
   ]
  },
  {
   "cell_type": "code",
   "execution_count": 19,
   "metadata": {},
   "outputs": [],
   "source": [
    "from sklearn.cluster import KMeans\n",
    "from sklearn import datasets"
   ]
  },
  {
   "cell_type": "code",
   "execution_count": 20,
   "metadata": {},
   "outputs": [
    {
     "data": {
      "text/plain": [
       "KMeans(algorithm='auto', copy_x=True, init='k-means++', max_iter=300,\n",
       "       n_clusters=6, n_init=10, n_jobs=None, precompute_distances='auto',\n",
       "       random_state=None, tol=0.0001, verbose=0)"
      ]
     },
     "execution_count": 20,
     "metadata": {},
     "output_type": "execute_result"
    }
   ],
   "source": [
    "model = KMeans(n_clusters=6)\n",
    "model.fit(df_norm)"
   ]
  },
  {
   "cell_type": "code",
   "execution_count": 21,
   "metadata": {},
   "outputs": [
    {
     "data": {
      "text/plain": [
       "array([4, 4, 4, ..., 1, 4, 2], dtype=int32)"
      ]
     },
     "execution_count": 21,
     "metadata": {},
     "output_type": "execute_result"
    }
   ],
   "source": [
    "model.labels_"
   ]
  },
  {
   "cell_type": "code",
   "execution_count": 22,
   "metadata": {},
   "outputs": [],
   "source": [
    "md_k = pd.Series(model.labels_)"
   ]
  },
  {
   "cell_type": "code",
   "execution_count": 23,
   "metadata": {},
   "outputs": [],
   "source": [
    "df_norm[\"cluster_h\"] = md\n",
    "df_norm[\"cluster_k\"] = md_k"
   ]
  },
  {
   "cell_type": "code",
   "execution_count": 24,
   "metadata": {},
   "outputs": [
    {
     "data": {
      "text/html": [
       "<div>\n",
       "<style scoped>\n",
       "    .dataframe tbody tr th:only-of-type {\n",
       "        vertical-align: middle;\n",
       "    }\n",
       "\n",
       "    .dataframe tbody tr th {\n",
       "        vertical-align: top;\n",
       "    }\n",
       "\n",
       "    .dataframe thead th {\n",
       "        text-align: right;\n",
       "    }\n",
       "</style>\n",
       "<table border=\"1\" class=\"dataframe\">\n",
       "  <thead>\n",
       "    <tr style=\"text-align: right;\">\n",
       "      <th></th>\n",
       "      <th>fixed acidity</th>\n",
       "      <th>volatile acidity</th>\n",
       "      <th>citric acid</th>\n",
       "      <th>residual sugar</th>\n",
       "      <th>chlorides</th>\n",
       "      <th>free sulfur dioxide</th>\n",
       "      <th>total sulfur dioxide</th>\n",
       "      <th>density</th>\n",
       "      <th>pH</th>\n",
       "      <th>sulphates</th>\n",
       "      <th>alcohol</th>\n",
       "      <th>quality</th>\n",
       "      <th>cluster_h</th>\n",
       "      <th>cluster_k</th>\n",
       "    </tr>\n",
       "  </thead>\n",
       "  <tbody>\n",
       "    <tr>\n",
       "      <td>0</td>\n",
       "      <td>0.247788</td>\n",
       "      <td>0.397260</td>\n",
       "      <td>0.00</td>\n",
       "      <td>0.068493</td>\n",
       "      <td>0.106845</td>\n",
       "      <td>0.140845</td>\n",
       "      <td>0.098940</td>\n",
       "      <td>0.567548</td>\n",
       "      <td>0.606299</td>\n",
       "      <td>0.137725</td>\n",
       "      <td>0.153846</td>\n",
       "      <td>0.4</td>\n",
       "      <td>2</td>\n",
       "      <td>4</td>\n",
       "    </tr>\n",
       "    <tr>\n",
       "      <td>1</td>\n",
       "      <td>0.283186</td>\n",
       "      <td>0.520548</td>\n",
       "      <td>0.00</td>\n",
       "      <td>0.116438</td>\n",
       "      <td>0.143573</td>\n",
       "      <td>0.338028</td>\n",
       "      <td>0.215548</td>\n",
       "      <td>0.494126</td>\n",
       "      <td>0.362205</td>\n",
       "      <td>0.209581</td>\n",
       "      <td>0.215385</td>\n",
       "      <td>0.4</td>\n",
       "      <td>2</td>\n",
       "      <td>4</td>\n",
       "    </tr>\n",
       "    <tr>\n",
       "      <td>2</td>\n",
       "      <td>0.283186</td>\n",
       "      <td>0.438356</td>\n",
       "      <td>0.04</td>\n",
       "      <td>0.095890</td>\n",
       "      <td>0.133556</td>\n",
       "      <td>0.197183</td>\n",
       "      <td>0.169611</td>\n",
       "      <td>0.508811</td>\n",
       "      <td>0.409449</td>\n",
       "      <td>0.191617</td>\n",
       "      <td>0.215385</td>\n",
       "      <td>0.4</td>\n",
       "      <td>2</td>\n",
       "      <td>4</td>\n",
       "    </tr>\n",
       "    <tr>\n",
       "      <td>3</td>\n",
       "      <td>0.584071</td>\n",
       "      <td>0.109589</td>\n",
       "      <td>0.56</td>\n",
       "      <td>0.068493</td>\n",
       "      <td>0.105175</td>\n",
       "      <td>0.225352</td>\n",
       "      <td>0.190813</td>\n",
       "      <td>0.582232</td>\n",
       "      <td>0.330709</td>\n",
       "      <td>0.149701</td>\n",
       "      <td>0.215385</td>\n",
       "      <td>0.6</td>\n",
       "      <td>3</td>\n",
       "      <td>5</td>\n",
       "    </tr>\n",
       "    <tr>\n",
       "      <td>4</td>\n",
       "      <td>0.247788</td>\n",
       "      <td>0.397260</td>\n",
       "      <td>0.00</td>\n",
       "      <td>0.068493</td>\n",
       "      <td>0.106845</td>\n",
       "      <td>0.140845</td>\n",
       "      <td>0.098940</td>\n",
       "      <td>0.567548</td>\n",
       "      <td>0.606299</td>\n",
       "      <td>0.137725</td>\n",
       "      <td>0.153846</td>\n",
       "      <td>0.4</td>\n",
       "      <td>2</td>\n",
       "      <td>4</td>\n",
       "    </tr>\n",
       "    <tr>\n",
       "      <td>5</td>\n",
       "      <td>0.247788</td>\n",
       "      <td>0.369863</td>\n",
       "      <td>0.00</td>\n",
       "      <td>0.061644</td>\n",
       "      <td>0.105175</td>\n",
       "      <td>0.169014</td>\n",
       "      <td>0.120141</td>\n",
       "      <td>0.567548</td>\n",
       "      <td>0.606299</td>\n",
       "      <td>0.137725</td>\n",
       "      <td>0.153846</td>\n",
       "      <td>0.4</td>\n",
       "      <td>2</td>\n",
       "      <td>4</td>\n",
       "    </tr>\n",
       "    <tr>\n",
       "      <td>6</td>\n",
       "      <td>0.292035</td>\n",
       "      <td>0.328767</td>\n",
       "      <td>0.06</td>\n",
       "      <td>0.047945</td>\n",
       "      <td>0.095159</td>\n",
       "      <td>0.197183</td>\n",
       "      <td>0.187279</td>\n",
       "      <td>0.464758</td>\n",
       "      <td>0.440945</td>\n",
       "      <td>0.077844</td>\n",
       "      <td>0.153846</td>\n",
       "      <td>0.4</td>\n",
       "      <td>2</td>\n",
       "      <td>4</td>\n",
       "    </tr>\n",
       "    <tr>\n",
       "      <td>7</td>\n",
       "      <td>0.238938</td>\n",
       "      <td>0.363014</td>\n",
       "      <td>0.00</td>\n",
       "      <td>0.020548</td>\n",
       "      <td>0.088481</td>\n",
       "      <td>0.197183</td>\n",
       "      <td>0.053004</td>\n",
       "      <td>0.332599</td>\n",
       "      <td>0.511811</td>\n",
       "      <td>0.083832</td>\n",
       "      <td>0.246154</td>\n",
       "      <td>0.8</td>\n",
       "      <td>2</td>\n",
       "      <td>1</td>\n",
       "    </tr>\n",
       "  </tbody>\n",
       "</table>\n",
       "</div>"
      ],
      "text/plain": [
       "   fixed acidity  volatile acidity  citric acid  residual sugar  chlorides  \\\n",
       "0       0.247788          0.397260         0.00        0.068493   0.106845   \n",
       "1       0.283186          0.520548         0.00        0.116438   0.143573   \n",
       "2       0.283186          0.438356         0.04        0.095890   0.133556   \n",
       "3       0.584071          0.109589         0.56        0.068493   0.105175   \n",
       "4       0.247788          0.397260         0.00        0.068493   0.106845   \n",
       "5       0.247788          0.369863         0.00        0.061644   0.105175   \n",
       "6       0.292035          0.328767         0.06        0.047945   0.095159   \n",
       "7       0.238938          0.363014         0.00        0.020548   0.088481   \n",
       "\n",
       "   free sulfur dioxide  total sulfur dioxide   density        pH  sulphates  \\\n",
       "0             0.140845              0.098940  0.567548  0.606299   0.137725   \n",
       "1             0.338028              0.215548  0.494126  0.362205   0.209581   \n",
       "2             0.197183              0.169611  0.508811  0.409449   0.191617   \n",
       "3             0.225352              0.190813  0.582232  0.330709   0.149701   \n",
       "4             0.140845              0.098940  0.567548  0.606299   0.137725   \n",
       "5             0.169014              0.120141  0.567548  0.606299   0.137725   \n",
       "6             0.197183              0.187279  0.464758  0.440945   0.077844   \n",
       "7             0.197183              0.053004  0.332599  0.511811   0.083832   \n",
       "\n",
       "    alcohol  quality  cluster_h  cluster_k  \n",
       "0  0.153846      0.4          2          4  \n",
       "1  0.215385      0.4          2          4  \n",
       "2  0.215385      0.4          2          4  \n",
       "3  0.215385      0.6          3          5  \n",
       "4  0.153846      0.4          2          4  \n",
       "5  0.153846      0.4          2          4  \n",
       "6  0.153846      0.4          2          4  \n",
       "7  0.246154      0.8          2          1  "
      ]
     },
     "execution_count": 24,
     "metadata": {},
     "output_type": "execute_result"
    }
   ],
   "source": [
    "df_norm.head(8)"
   ]
  },
  {
   "cell_type": "code",
   "execution_count": 25,
   "metadata": {},
   "outputs": [
    {
     "data": {
      "text/plain": [
       "(array([294.,   0., 216.,   0., 235.,   0., 266.,   0., 366., 222.]),\n",
       " array([0. , 0.5, 1. , 1.5, 2. , 2.5, 3. , 3.5, 4. , 4.5, 5. ]),\n",
       " <a list of 10 Patch objects>)"
      ]
     },
     "execution_count": 25,
     "metadata": {},
     "output_type": "execute_result"
    },
    {
     "data": {
      "image/png": "[encoded data removed]",
      "text/plain": [
       "<Figure size 432x288 with 1 Axes>"
      ]
     },
     "metadata": {
      "needs_background": "light"
     },
     "output_type": "display_data"
    }
   ],
   "source": [
    "plt.hist(md_k)"
   ]
  },
  {
   "cell_type": "code",
   "execution_count": 27,
   "metadata": {},
   "outputs": [
    {
     "data": {
      "text/plain": [
       "array([[0.331437  , 0.28183534, 0.27816327, 0.08741031, 0.13639513,\n",
       "        0.14003066, 0.13200404, 0.52050056, 0.41456425, 0.1844678 ,\n",
       "        0.20722135, 0.47687075],\n",
       "       [0.17551622, 0.31760528, 0.09634259, 0.09370244, 0.09543684,\n",
       "        0.24771779, 0.12411661, 0.31965859, 0.57706328, 0.18743069,\n",
       "        0.49824311, 0.61759259],\n",
       "       [0.36998682, 0.15542116, 0.4326383 , 0.10652871, 0.10547366,\n",
       "        0.16553791, 0.08393354, 0.40576124, 0.41236388, 0.24008154,\n",
       "        0.50271686, 0.71404255],\n",
       "       [0.32074656, 0.27562056, 0.30966165, 0.16891544, 0.12820239,\n",
       "        0.40762999, 0.31273413, 0.5435091 , 0.42854183, 0.19193193,\n",
       "        0.22005013, 0.45714286],\n",
       "       [0.23847865, 0.38311251, 0.06863388, 0.09359795, 0.12074769,\n",
       "        0.16526206, 0.10563054, 0.4810348 , 0.52239577, 0.15388894,\n",
       "        0.23593246, 0.4295082 ],\n",
       "       [0.59208323, 0.20327348, 0.54747748, 0.13208071, 0.16962956,\n",
       "        0.14642812, 0.0966638 , 0.65670516, 0.31730155, 0.25082268,\n",
       "        0.29769   , 0.55315315]])"
      ]
     },
     "execution_count": 27,
     "metadata": {},
     "output_type": "execute_result"
    }
   ],
   "source": [
    "model.cluster_centers_"
   ]
  },
  {
   "cell_type": "code",
   "execution_count": 28,
   "metadata": {},
   "outputs": [
    {
     "data": {
      "text/plain": [
       "188.54409117931564"
      ]
     },
     "execution_count": 28,
     "metadata": {},
     "output_type": "execute_result"
    }
   ],
   "source": [
    "model.inertia_"
   ]
  },
  {
   "cell_type": "markdown",
   "metadata": {},
   "source": [
    "## Interpretación final"
   ]
  },
  {
   "cell_type": "code",
   "execution_count": 30,
   "metadata": {},
   "outputs": [
    {
     "data": {
      "text/html": [
       "<div>\n",
       "<style scoped>\n",
       "    .dataframe tbody tr th:only-of-type {\n",
       "        vertical-align: middle;\n",
       "    }\n",
       "\n",
       "    .dataframe tbody tr th {\n",
       "        vertical-align: top;\n",
       "    }\n",
       "\n",
       "    .dataframe thead th {\n",
       "        text-align: right;\n",
       "    }\n",
       "</style>\n",
       "<table border=\"1\" class=\"dataframe\">\n",
       "  <thead>\n",
       "    <tr style=\"text-align: right;\">\n",
       "      <th></th>\n",
       "      <th>fixed acidity</th>\n",
       "      <th>volatile acidity</th>\n",
       "      <th>citric acid</th>\n",
       "      <th>residual sugar</th>\n",
       "      <th>chlorides</th>\n",
       "      <th>free sulfur dioxide</th>\n",
       "      <th>total sulfur dioxide</th>\n",
       "      <th>density</th>\n",
       "      <th>pH</th>\n",
       "      <th>sulphates</th>\n",
       "      <th>alcohol</th>\n",
       "      <th>quality</th>\n",
       "      <th>cluster_h</th>\n",
       "    </tr>\n",
       "    <tr>\n",
       "      <th>cluster_k</th>\n",
       "      <th></th>\n",
       "      <th></th>\n",
       "      <th></th>\n",
       "      <th></th>\n",
       "      <th></th>\n",
       "      <th></th>\n",
       "      <th></th>\n",
       "      <th></th>\n",
       "      <th></th>\n",
       "      <th></th>\n",
       "      <th></th>\n",
       "      <th></th>\n",
       "      <th></th>\n",
       "    </tr>\n",
       "  </thead>\n",
       "  <tbody>\n",
       "    <tr>\n",
       "      <td>0</td>\n",
       "      <td>0.331437</td>\n",
       "      <td>0.281835</td>\n",
       "      <td>0.278163</td>\n",
       "      <td>0.087410</td>\n",
       "      <td>0.136395</td>\n",
       "      <td>0.140031</td>\n",
       "      <td>0.132004</td>\n",
       "      <td>0.520501</td>\n",
       "      <td>0.414564</td>\n",
       "      <td>0.184468</td>\n",
       "      <td>0.207221</td>\n",
       "      <td>0.476871</td>\n",
       "      <td>1.561224</td>\n",
       "    </tr>\n",
       "    <tr>\n",
       "      <td>1</td>\n",
       "      <td>0.175516</td>\n",
       "      <td>0.317605</td>\n",
       "      <td>0.096343</td>\n",
       "      <td>0.093702</td>\n",
       "      <td>0.095437</td>\n",
       "      <td>0.247718</td>\n",
       "      <td>0.124117</td>\n",
       "      <td>0.319659</td>\n",
       "      <td>0.577063</td>\n",
       "      <td>0.187431</td>\n",
       "      <td>0.498243</td>\n",
       "      <td>0.617593</td>\n",
       "      <td>3.412037</td>\n",
       "    </tr>\n",
       "    <tr>\n",
       "      <td>2</td>\n",
       "      <td>0.369987</td>\n",
       "      <td>0.155421</td>\n",
       "      <td>0.432638</td>\n",
       "      <td>0.106529</td>\n",
       "      <td>0.105474</td>\n",
       "      <td>0.165538</td>\n",
       "      <td>0.083934</td>\n",
       "      <td>0.405761</td>\n",
       "      <td>0.412364</td>\n",
       "      <td>0.240082</td>\n",
       "      <td>0.502717</td>\n",
       "      <td>0.714043</td>\n",
       "      <td>0.080851</td>\n",
       "    </tr>\n",
       "    <tr>\n",
       "      <td>3</td>\n",
       "      <td>0.320747</td>\n",
       "      <td>0.275621</td>\n",
       "      <td>0.309662</td>\n",
       "      <td>0.168915</td>\n",
       "      <td>0.128202</td>\n",
       "      <td>0.407630</td>\n",
       "      <td>0.312734</td>\n",
       "      <td>0.543509</td>\n",
       "      <td>0.428542</td>\n",
       "      <td>0.191932</td>\n",
       "      <td>0.220050</td>\n",
       "      <td>0.457143</td>\n",
       "      <td>1.041353</td>\n",
       "    </tr>\n",
       "    <tr>\n",
       "      <td>4</td>\n",
       "      <td>0.238479</td>\n",
       "      <td>0.383113</td>\n",
       "      <td>0.068634</td>\n",
       "      <td>0.093598</td>\n",
       "      <td>0.120748</td>\n",
       "      <td>0.165262</td>\n",
       "      <td>0.105631</td>\n",
       "      <td>0.481035</td>\n",
       "      <td>0.522396</td>\n",
       "      <td>0.153889</td>\n",
       "      <td>0.235932</td>\n",
       "      <td>0.429508</td>\n",
       "      <td>2.133880</td>\n",
       "    </tr>\n",
       "    <tr>\n",
       "      <td>5</td>\n",
       "      <td>0.592083</td>\n",
       "      <td>0.203273</td>\n",
       "      <td>0.547477</td>\n",
       "      <td>0.132081</td>\n",
       "      <td>0.169630</td>\n",
       "      <td>0.146428</td>\n",
       "      <td>0.096664</td>\n",
       "      <td>0.656705</td>\n",
       "      <td>0.317302</td>\n",
       "      <td>0.250823</td>\n",
       "      <td>0.297690</td>\n",
       "      <td>0.553153</td>\n",
       "      <td>2.445946</td>\n",
       "    </tr>\n",
       "  </tbody>\n",
       "</table>\n",
       "</div>"
      ],
      "text/plain": [
       "           fixed acidity  volatile acidity  citric acid  residual sugar  \\\n",
       "cluster_k                                                                 \n",
       "0               0.331437          0.281835     0.278163        0.087410   \n",
       "1               0.175516          0.317605     0.096343        0.093702   \n",
       "2               0.369987          0.155421     0.432638        0.106529   \n",
       "3               0.320747          0.275621     0.309662        0.168915   \n",
       "4               0.238479          0.383113     0.068634        0.093598   \n",
       "5               0.592083          0.203273     0.547477        0.132081   \n",
       "\n",
       "           chlorides  free sulfur dioxide  total sulfur dioxide   density  \\\n",
       "cluster_k                                                                   \n",
       "0           0.136395             0.140031              0.132004  0.520501   \n",
       "1           0.095437             0.247718              0.124117  0.319659   \n",
       "2           0.105474             0.165538              0.083934  0.405761   \n",
       "3           0.128202             0.407630              0.312734  0.543509   \n",
       "4           0.120748             0.165262              0.105631  0.481035   \n",
       "5           0.169630             0.146428              0.096664  0.656705   \n",
       "\n",
       "                 pH  sulphates   alcohol   quality  cluster_h  \n",
       "cluster_k                                                      \n",
       "0          0.414564   0.184468  0.207221  0.476871   1.561224  \n",
       "1          0.577063   0.187431  0.498243  0.617593   3.412037  \n",
       "2          0.412364   0.240082  0.502717  0.714043   0.080851  \n",
       "3          0.428542   0.191932  0.220050  0.457143   1.041353  \n",
       "4          0.522396   0.153889  0.235932  0.429508   2.133880  \n",
       "5          0.317302   0.250823  0.297690  0.553153   2.445946  "
      ]
     },
     "execution_count": 30,
     "metadata": {},
     "output_type": "execute_result"
    }
   ],
   "source": [
    "df_norm.groupby(\"cluster_k\").mean()"
   ]
  },
  {
   "cell_type": "code",
   "execution_count": null,
   "metadata": {},
   "outputs": [],
   "source": []
  }
 ],
 "metadata": {
  "kernelspec": {
   "display_name": "Python 3",
   "language": "python",
   "name": "python3"
  },
  "language_info": {
   "codemirror_mode": {
    "name": "ipython",
    "version": 3
   },
   "file_extension": ".py",
   "mimetype": "text/x-python",
   "name": "python",
   "nbconvert_exporter": "python",
   "pygments_lexer": "ipython3",
   "version": "3.6.5"
  }
 },
 "nbformat": 4,
 "nbformat_minor": 2
}
