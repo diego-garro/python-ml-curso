{
 "cells": [
  {
   "cell_type": "markdown",
   "metadata": {},
   "source": [
    "# El método de los k-means"
   ]
  },
  {
   "cell_type": "code",
   "execution_count": 1,
   "metadata": {},
   "outputs": [],
   "source": [
    "import numpy as np"
   ]
  },
  {
   "cell_type": "code",
   "execution_count": 2,
   "metadata": {},
   "outputs": [
    {
     "data": {
      "text/plain": [
       "array([[0.46913161, 0.96814725, 0.64170499],\n",
       "       [0.41250751, 0.67231842, 0.24007729],\n",
       "       [0.4151545 , 0.11201409, 0.07963906],\n",
       "       [0.82790728, 0.22163087, 0.16303246],\n",
       "       [0.28292193, 0.07160548, 0.28742045],\n",
       "       [0.50795093, 0.92767662, 0.09819306],\n",
       "       [0.76991199, 0.87136138, 0.28319148],\n",
       "       [0.50085597, 0.58474691, 0.03147503],\n",
       "       [0.70321926, 0.22778412, 0.4702668 ],\n",
       "       [0.44428989, 0.31130396, 0.71793422],\n",
       "       [0.83362783, 0.93663405, 0.60309139],\n",
       "       [0.33331575, 0.7198984 , 0.6915373 ],\n",
       "       [0.49742493, 0.89719868, 0.0331982 ],\n",
       "       [0.5198044 , 0.44017083, 0.91137483],\n",
       "       [0.38408607, 0.13695804, 0.1686455 ],\n",
       "       [0.8564163 , 0.65114665, 0.65241778],\n",
       "       [0.70507582, 0.12808225, 0.77205879],\n",
       "       [0.84480871, 0.6674376 , 0.02179668],\n",
       "       [0.84699531, 0.04931438, 0.07906187],\n",
       "       [0.74467739, 0.27810503, 0.55884998],\n",
       "       [0.36516921, 0.60178299, 0.70478622],\n",
       "       [0.04015461, 0.51279079, 0.23644342],\n",
       "       [0.94023185, 0.28207551, 0.7543758 ],\n",
       "       [0.38501387, 0.29170181, 0.09708345],\n",
       "       [0.32163617, 0.56699334, 0.0904063 ],\n",
       "       [0.64930488, 0.39010903, 0.48617446],\n",
       "       [0.21392621, 0.237171  , 0.20595764],\n",
       "       [0.41059732, 0.93201155, 0.74693342],\n",
       "       [0.79092899, 0.034102  , 0.14977107],\n",
       "       [0.15641106, 0.3986215 , 0.5864234 ]])"
      ]
     },
     "execution_count": 2,
     "metadata": {},
     "output_type": "execute_result"
    }
   ],
   "source": [
    "data = np.random.random(90).reshape(30, 3)\n",
    "data"
   ]
  },
  {
   "cell_type": "code",
   "execution_count": 4,
   "metadata": {},
   "outputs": [
    {
     "data": {
      "text/plain": [
       "array([[0.70507582, 0.12808225, 0.77205879],\n",
       "       [0.94023185, 0.28207551, 0.7543758 ]])"
      ]
     },
     "execution_count": 4,
     "metadata": {},
     "output_type": "execute_result"
    }
   ],
   "source": [
    "c1 = np.random.choice(range(len(data)))\n",
    "c2 = np.random.choice(range(len(data)))\n",
    "clust_centers = np.vstack([data[c1], data[c2]])\n",
    "clust_centers"
   ]
  },
  {
   "cell_type": "code",
   "execution_count": 5,
   "metadata": {},
   "outputs": [],
   "source": [
    "from scipy.cluster.vq import vq"
   ]
  },
  {
   "cell_type": "code",
   "execution_count": 6,
   "metadata": {},
   "outputs": [
    {
     "data": {
      "text/plain": [
       "(array([1, 0, 0, 1, 0, 1, 1, 0, 0, 0, 1, 0, 1, 0, 0, 1, 0, 1, 0, 0, 0, 0,\n",
       "        1, 0, 0, 0, 0, 1, 0, 0], dtype=int32),\n",
       " array([0.83983605, 0.81534872, 0.75083796, 0.60494405, 0.64519597,\n",
       "        1.01697756, 0.77348649, 0.89370726, 0.31784008, 0.32327847,\n",
       "        0.68021929, 0.70351661, 1.04620821, 0.38875923, 0.68353551,\n",
       "        0.39196172, 0.        , 0.83323567, 0.71175153, 0.26369132,\n",
       "        0.58690246, 0.93648529, 0.        , 0.76472395, 0.89683835,\n",
       "        0.39178856, 0.75736306, 0.838442  , 0.63517325, 0.63928476]))"
      ]
     },
     "execution_count": 6,
     "metadata": {},
     "output_type": "execute_result"
    }
   ],
   "source": [
    "vq(data, clust_centers)"
   ]
  },
  {
   "cell_type": "code",
   "execution_count": 7,
   "metadata": {},
   "outputs": [],
   "source": [
    "from scipy.cluster.vq import kmeans"
   ]
  },
  {
   "cell_type": "code",
   "execution_count": 8,
   "metadata": {},
   "outputs": [
    {
     "data": {
      "text/plain": [
       "(array([[0.53235902, 0.24256122, 0.3955596 ],\n",
       "        [0.54795033, 0.76902722, 0.37221609]]), 0.3790441046505143)"
      ]
     },
     "execution_count": 8,
     "metadata": {},
     "output_type": "execute_result"
    }
   ],
   "source": [
    "kmeans(data, clust_centers)"
   ]
  },
  {
   "cell_type": "code",
   "execution_count": 9,
   "metadata": {},
   "outputs": [
    {
     "data": {
      "text/plain": [
       "(array([[0.4848182 , 0.39891067, 0.13214676],\n",
       "        [0.5934123 , 0.5424823 , 0.63874139]]), 0.3713458023097239)"
      ]
     },
     "execution_count": 9,
     "metadata": {},
     "output_type": "execute_result"
    }
   ],
   "source": [
    "kmeans(data, 2)"
   ]
  },
  {
   "cell_type": "code",
   "execution_count": null,
   "metadata": {},
   "outputs": [],
   "source": []
  }
 ],
 "metadata": {
  "kernelspec": {
   "display_name": "Python 3",
   "language": "python",
   "name": "python3"
  },
  "language_info": {
   "codemirror_mode": {
    "name": "ipython",
    "version": 3
   },
   "file_extension": ".py",
   "mimetype": "text/x-python",
   "name": "python",
   "nbconvert_exporter": "python",
   "pygments_lexer": "ipython3",
   "version": "3.6.5"
  }
 },
 "nbformat": 4,
 "nbformat_minor": 2
}
